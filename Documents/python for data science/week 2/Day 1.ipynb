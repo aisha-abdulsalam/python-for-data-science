{
 "cells": [
  {
   "cell_type": "code",
   "execution_count": 6,
   "id": "e7e0a463",
   "metadata": {},
   "outputs": [
    {
     "name": "stdout",
     "output_type": "stream",
     "text": [
      "c = 90 \n",
      "d = 10 \n",
      "e = 1575\n",
      "False\n",
      "True\n"
     ]
    }
   ],
   "source": [
    "#This is a one line comment\n",
    "\n",
    "\"\"\"\n",
    "Here is a multi line comment\n",
    "line2\n",
    "line3 comment\n",
    "\"\"\"\n",
    "\n",
    "a = 35\n",
    "b = 45\n",
    "\n",
    "c = a + b\n",
    "d = b - a\n",
    "e = a * b\n",
    "c += d\n",
    "\n",
    "print(\"c =\", c, \"\\nd =\", d, \"\\ne =\", e)\n",
    "print(a == b)\n",
    "print(a != b)"
   ]
  },
  {
   "cell_type": "code",
   "execution_count": 12,
   "id": "25480a18",
   "metadata": {},
   "outputs": [
    {
     "name": "stdout",
     "output_type": "stream",
     "text": [
      "c= 30 \n",
      "d= 59049 \n",
      "e= 177147\n"
     ]
    }
   ],
   "source": [
    "a = 3\n",
    "b = 10\n",
    "\n",
    "\n",
    "c = a * b\n",
    "d = a ** 10\n",
    "e = d * a\n",
    "\n",
    "print(\"c=\", c, \"\\nd=\", d, \"\\ne=\", e)"
   ]
  },
  {
   "cell_type": "code",
   "execution_count": 24,
   "id": "07a24fb6",
   "metadata": {},
   "outputs": [
    {
     "name": "stdout",
     "output_type": "stream",
     "text": [
      "name is of type <class 'str'>\n",
      "srting_int is of type <class 'str'>\n",
      "a is of type <class 'int'>\n",
      "b is of type <class 'float'>\n",
      "c is of type <class 'list'>\n",
      "f is of type <class 'list'>\n",
      "e is of type <class 'complex'>\n",
      "d is of type <class 'set'>\n",
      "g is of type <class 'tuple'>\n",
      "h is of type <class 'dict'>\n"
     ]
    }
   ],
   "source": [
    "#data types\n",
    "name = \"David Olaniyi\"\n",
    "string_int = \"45\"\n",
    "a = 30\n",
    "b = 40.4\n",
    "c = [1,2,3]\n",
    "f = ['nse','dayo','aisha']\n",
    "e = complex(3,2) # 3+2i\n",
    "d = {'nse','dayo','aisha'}\n",
    "g = ('nse','dayo','aisha')\n",
    "h = {\"name\": \"David\",\"age\": 5, \"location\": \"Lagos\"}\n",
    "\n",
    "print(\"name is of type\", type(name))\n",
    "print(\"srting_int is of type\", type(string_int))\n",
    "print(\"a is of type\", type(a))\n",
    "print(\"b is of type\", type(b))\n",
    "print(\"c is of type\", type(c))\n",
    "print(\"f is of type\", type(f))\n",
    "print(\"e is of type\", type(e))\n",
    "print(\"d is of type\", type(d))\n",
    "print(\"g is of type\", type(g))\n",
    "print(\"h is of type\", type(h))"
   ]
  },
  {
   "cell_type": "code",
   "execution_count": 25,
   "id": "24ecd32c",
   "metadata": {},
   "outputs": [
    {
     "name": "stdout",
     "output_type": "stream",
     "text": [
      "name is of type <class 'str'>\n",
      "a is of type <class 'float'>\n",
      "b is of type <class 'list'>\n",
      "c is of type <class 'dict'>\n"
     ]
    }
   ],
   "source": [
    "Name = \"Aisha Abdulsalam\"\n",
    "a = 55.5\n",
    "b = [\"ola\", \"tunde\", \"yemi\"]\n",
    "c = {\"name\": \"Aisha\", \"age\": 50, \"location\": \"lekki\"}\n",
    "\n",
    "print(\"name is of type\", type(name))\n",
    "print(\"a is of type\", type(a))\n",
    "print(\"b is of type\", type(b))\n",
    "print(\"c is of type\", type(c))"
   ]
  },
  {
   "cell_type": "code",
   "execution_count": 31,
   "id": "a8792202",
   "metadata": {},
   "outputs": [
    {
     "name": "stdout",
     "output_type": "stream",
     "text": [
      "name,a,b,c is of type <class 'str'> <class 'float'> <class 'list'> <class 'dict'>\n"
     ]
    }
   ],
   "source": [
    "Name = \"Aisha Abdulsalam\"\n",
    "a = 55.5\n",
    "b = [\"ola\", \"tunde\", \"yemi\"]\n",
    "c = {\"name\": \"Aisha\", \"age\": 50, \"location\": \"lekki\"}\n",
    "\n",
    "print(\"name,a,b,c is of type\", type(name),type(a),type(b),type(c))\n"
   ]
  },
  {
   "cell_type": "code",
   "execution_count": null,
   "id": "8db5b42e",
   "metadata": {},
   "outputs": [],
   "source": []
  }
 ],
 "metadata": {
  "kernelspec": {
   "display_name": "Python 3 (ipykernel)",
   "language": "python",
   "name": "python3"
  },
  "language_info": {
   "codemirror_mode": {
    "name": "ipython",
    "version": 3
   },
   "file_extension": ".py",
   "mimetype": "text/x-python",
   "name": "python",
   "nbconvert_exporter": "python",
   "pygments_lexer": "ipython3",
   "version": "3.11.3"
  }
 },
 "nbformat": 4,
 "nbformat_minor": 5
}
