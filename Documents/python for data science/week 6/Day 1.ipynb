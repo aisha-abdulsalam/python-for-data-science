{
 "cells": [
  {
   "cell_type": "code",
   "execution_count": 10,
   "id": "6dc87706",
   "metadata": {},
   "outputs": [
    {
     "name": "stdout",
     "output_type": "stream",
     "text": [
      "i can't walk\n",
      "i can walk\n",
      "Yay, I can talk\n"
     ]
    }
   ],
   "source": [
    "class Animal:\n",
    "    def walk(self, legs):\n",
    "        if legs >= 2:\n",
    "            print(\"i can walk\")\n",
    "        else:\n",
    "            print(\"i can't walk\")\n",
    "        return\n",
    "    def talk(self):\n",
    "        print(\"Yay, I can talk\")\n",
    "        return\n",
    "    \n",
    "dog = Animal()\n",
    "dog.walk(1)\n",
    "\n",
    "goat = Animal()\n",
    "goat.walk(3)\n",
    "\n",
    "goat.talk()\n",
    "#walk(3)"
   ]
  },
  {
   "cell_type": "code",
   "execution_count": 20,
   "id": "432a941a",
   "metadata": {},
   "outputs": [
    {
     "name": "stdout",
     "output_type": "stream",
     "text": [
      "car colour:  red\n",
      "car make:  Honda\n",
      "car model:  Civic\n",
      "year manufactured:  2008\n",
      "executed setInfo method\n",
      "car colour:  Gold\n",
      "car make:  Mercedes\n",
      "car model:  c300\n",
      "year manufactured:  2012\n",
      "Circle\n"
     ]
    }
   ],
   "source": [
    "class Car(object):\n",
    "    has_engine = True\n",
    "    steering_shape = \"Circle\"\n",
    "    def __init__(self, colour, make, model, year):\n",
    "        self.colour = colour\n",
    "        self.make = make\n",
    "        self.model = model\n",
    "        self.year = year\n",
    "        return\n",
    "    def getInfo(self):\n",
    "        print('car colour: ', self.colour)\n",
    "        print(\"car make: \", self.make)\n",
    "        print(\"car model: \", self.model)\n",
    "        print(\"year manufactured: \", self.year)\n",
    "        return\n",
    "    def setInfo(self, colour, make, model, year):\n",
    "        self.colour = colour\n",
    "        self.make = make\n",
    "        self.model = model\n",
    "        self.year = year\n",
    "        print(\"executed setInfo method\")\n",
    "        return\n",
    "    \n",
    "car1 = Car(\"red\", \"Honda\", \"Civic\", 2008)\n",
    "car1.getInfo()\n",
    "car1.setInfo(\"Gold\", \"Mercedes\", \"c300\", \"2012\")\n",
    "car1.getInfo()\n",
    "print(car1.steering_shape)"
   ]
  },
  {
   "cell_type": "code",
   "execution_count": 21,
   "id": "6cec5d1e",
   "metadata": {},
   "outputs": [
    {
     "name": "stdout",
     "output_type": "stream",
     "text": [
      "[3, 8]\n"
     ]
    }
   ],
   "source": [
    "list1 = list()\n",
    "list1.append(3)\n",
    "list1.append(8)\n",
    "list1.sort()\n",
    "print(list1)"
   ]
  },
  {
   "cell_type": "code",
   "execution_count": 28,
   "id": "346b1101",
   "metadata": {},
   "outputs": [
    {
     "name": "stdout",
     "output_type": "stream",
     "text": [
      "Hello\n",
      "i can jump\n"
     ]
    }
   ],
   "source": [
    "#Class Work\n",
    "#Create a person class that has the following behaviors: talk, jump, shout\n",
    "\n",
    "class Person():\n",
    "    def jump(self, legs):\n",
    "        if legs >= 2:\n",
    "            print(\"i can jump\")\n",
    "        else:\n",
    "            print(\"i can't jump\")\n",
    "        return\n",
    "    def talk(self):\n",
    "        print(\"Hello\")\n",
    "        return\n",
    "    def shout(self):\n",
    "        print(\"i can shout\")\n",
    "        return\n",
    "        \n",
    "girl = Person()\n",
    "girl.talk()\n",
    "\n",
    "boy = Person()\n",
    "boy.jump(3)"
   ]
  },
  {
   "cell_type": "code",
   "execution_count": 35,
   "id": "bcdc82c0",
   "metadata": {},
   "outputs": [
    {
     "name": "stdout",
     "output_type": "stream",
     "text": [
      "Withdrawal Successful\n",
      "1000\n"
     ]
    }
   ],
   "source": [
    "class BankCustomer:\n",
    "    def __init__(self, name, balance = 1000):\n",
    "        self.name = name\n",
    "        self.balance = balance\n",
    "        return\n",
    "    def deposit(self, amount):\n",
    "        self.bal += amount\n",
    "        return\n",
    "    def withdraw(self, amount):\n",
    "        if amount > self.balance:\n",
    "            return \"Insufficient balance\"\n",
    "        else:\n",
    "            self.balance -= amount\n",
    "            return \"Withdrawal Successful\"\n",
    "    def checkBalance(self):\n",
    "        return self.balance\n",
    "    \n",
    "customer1 = BankCustomer(\"Sam\")\n",
    "balance = customer1.checkBalance()\n",
    "\n",
    "\n",
    "withdrawal_response = customer1.withdraw(500)\n",
    "print(withdrawal_response)\n",
    "\n",
    "print(balance)     "
   ]
  },
  {
   "cell_type": "code",
   "execution_count": null,
   "id": "736c91c8",
   "metadata": {},
   "outputs": [],
   "source": []
  }
 ],
 "metadata": {
  "kernelspec": {
   "display_name": "Python 3 (ipykernel)",
   "language": "python",
   "name": "python3"
  },
  "language_info": {
   "codemirror_mode": {
    "name": "ipython",
    "version": 3
   },
   "file_extension": ".py",
   "mimetype": "text/x-python",
   "name": "python",
   "nbconvert_exporter": "python",
   "pygments_lexer": "ipython3",
   "version": "3.11.3"
  }
 },
 "nbformat": 4,
 "nbformat_minor": 5
}
