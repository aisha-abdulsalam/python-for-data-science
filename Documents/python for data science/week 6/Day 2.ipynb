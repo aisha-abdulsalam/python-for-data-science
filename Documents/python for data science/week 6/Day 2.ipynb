{
 "cells": [
  {
   "cell_type": "code",
   "execution_count": 14,
   "id": "a87ba31e",
   "metadata": {},
   "outputs": [
    {
     "name": "stdout",
     "output_type": "stream",
     "text": [
      "I change my gear 5 times\n",
      "I am a car, I change my gear 5 times\n",
      "The car is ready to move\n"
     ]
    }
   ],
   "source": [
    "class Vehicle:\n",
    "    steering_shape = \"Circle\"\n",
    "    def __init__(self, no_of_wheels, colour):\n",
    "        self.no_of_wheels = no_of_wheels\n",
    "        self.colour = colour\n",
    "        return\n",
    "    def startEngine(self):\n",
    "        print(\"The car is ready to move\")\n",
    "        return\n",
    "    def accelerate(self, no_of_gears):\n",
    "        print(\"I change my gear\", no_of_gears, \"times\")\n",
    "        \n",
    "class Car(Vehicle):\n",
    "    def __init__(self, no_of_wheels, colour, make, model, year):\n",
    "        super().__init__(no_of_wheels, colour)\n",
    "        self.make = make\n",
    "        self.model = model\n",
    "        self.year = year\n",
    "        return\n",
    "    def getInfo(self):\n",
    "        print(\"Car colour:\", self.colour)\n",
    "        print(\"Car model:\", self.model)\n",
    "        return\n",
    "    def accelerate(self, no_of_gears):\n",
    "        super().accelerate(no_of_gears)\n",
    "        print(\"I am a car, I change my gear\", no_of_gears, \"times\")\n",
    "        return\n",
    "\n",
    "car1 = Car(4, \"Black\", \"Honda\", \"CRV\", 2010)\n",
    "car1.accelerate(5)\n",
    "car1.startEngine()\n",
    "\n",
    "vh = Vehicle(4, \"green\")\n",
    "#vh.startEngine()\n",
    "#vh.accelerate(6)"
   ]
  },
  {
   "cell_type": "code",
   "execution_count": 19,
   "id": "39db367c",
   "metadata": {},
   "outputs": [
    {
     "name": "stdout",
     "output_type": "stream",
     "text": [
      "I can walk or fly\n",
      "I have wings to fly\n",
      "I make wispering sounds\n",
      "I can only crawl\n"
     ]
    }
   ],
   "source": [
    "class Animal:\n",
    "    def talk(self):\n",
    "        print(\"i can talk oo\")\n",
    "        return\n",
    "    def move(self):\n",
    "        print(\"i can move\")\n",
    "        return\n",
    "    \n",
    "class Bird(Animal):\n",
    "    def talk(self):\n",
    "        print(\"I make pleasant sounds\")\n",
    "        return\n",
    "    def move(self):\n",
    "        print(\"I can walk or fly\")\n",
    "        return\n",
    "    def fly(self):\n",
    "        print(\"I have wings to fly\")\n",
    "        return\n",
    "    \n",
    "class Snake(Animal):\n",
    "    def talk(self):\n",
    "        print(\"I make wispering sounds\")\n",
    "        return\n",
    "    def move(self):\n",
    "        print(\"I can only crawl\")\n",
    "        return\n",
    "    \n",
    "sparrow = Bird()\n",
    "sparrow.move()\n",
    "sparrow.fly()\n",
    "\n",
    "Python = Snake()\n",
    "Python.talk()\n",
    "Python.move()"
   ]
  },
  {
   "cell_type": "code",
   "execution_count": 32,
   "id": "4f987bc3",
   "metadata": {},
   "outputs": [
    {
     "name": "stdout",
     "output_type": "stream",
     "text": [
      "i walk\n",
      "i can walk\n",
      "i love to bark\n"
     ]
    }
   ],
   "source": [
    "#Class work\n",
    "#create 2 classes: Animal and Dog where the Animalclass is the parent class. Define the walk and talk method in both classes and use the super() to inherit the init method from the parent class.\n",
    "class Animal:\n",
    "    def walk(self, no_of_legs):\n",
    "        if no_of_legs >= 1:\n",
    "            print(\"i walk\")\n",
    "        else:\n",
    "            print(\"i can't walk\")\n",
    "        return\n",
    "    def talk(self):\n",
    "        print(\"i can talk\", no_of_legs)\n",
    "        return\n",
    "    \n",
    "class Dog(Animal):\n",
    "    def walk(self, no_of_legs):\n",
    "        super().walk(no_of_legs)\n",
    "        if no_of_legs >= 1:\n",
    "            print(\"i can walk\")\n",
    "        else:\n",
    "            print(\"i can't walk\")\n",
    "        return\n",
    "    def talk(self):\n",
    "        print(\"i love to bark\")\n",
    "        return\n",
    "    \n",
    "dog1 = Dog()\n",
    "dog1.walk(5)\n",
    "\n",
    "dog2 = Dog()\n",
    "dog2.talk()"
   ]
  },
  {
   "cell_type": "code",
   "execution_count": 41,
   "id": "46237527",
   "metadata": {},
   "outputs": [
    {
     "name": "stdout",
     "output_type": "stream",
     "text": [
      "i can walk\n",
      "Huf Huf\n"
     ]
    }
   ],
   "source": [
    "class Animal:\n",
    "    def __init__(self, name, size):\n",
    "        self.name = name\n",
    "        self.size = size\n",
    "        return\n",
    "    def walk(self):\n",
    "        print(\"i can walk\")\n",
    "        return\n",
    "    def talk(self):\n",
    "        print(\"i can talk\")\n",
    "        return\n",
    "    \n",
    "class Dog(Animal):\n",
    "    def __init__(self, name, size, breed):\n",
    "        super().__init__(name,size)\n",
    "        self.breed = breed\n",
    "        return      \n",
    "    def talk(self):\n",
    "        print(\"i can talk\")\n",
    "        return\n",
    "              \n",
    "#dog1 = Dog(\"lyon\", 6, \"german Bulldog\")\n",
    "#dog1.talk() \n",
    "\n",
    "class BullDog(Dog):\n",
    "    def __init__(self, name, size, breed):\n",
    "        super().__init__(name, size, breed)\n",
    "        return\n",
    "    def deepBak(self):\n",
    "        print(\"Huf Huf\")\n",
    "        return\n",
    "    \n",
    "bdog = BullDog(\"jake\", 59, \"Bulldog\")\n",
    "bdog.walk()\n",
    "bdog.deepBak()"
   ]
  },
  {
   "cell_type": "code",
   "execution_count": null,
   "id": "345f5e75",
   "metadata": {},
   "outputs": [],
   "source": [
    "#Class Work\n",
    "init method\n",
    "class Animal:\n",
    "    def __init__(self, no_of_legs):\n",
    "        self.no_of_legs\n",
    "    "
   ]
  },
  {
   "cell_type": "code",
   "execution_count": 46,
   "id": "d9c9523f",
   "metadata": {},
   "outputs": [
    {
     "name": "stdout",
     "output_type": "stream",
     "text": [
      "Name Jane\n",
      "Age: 10\n",
      "sex Female\n"
     ]
    },
    {
     "data": {
      "text/plain": [
       "<__main__.Person at 0x200d1e379d0>"
      ]
     },
     "execution_count": 46,
     "metadata": {},
     "output_type": "execute_result"
    }
   ],
   "source": [
    "\n",
    "\n",
    "from multipledispatch import dispatch\n",
    "#method overloading\n",
    "class Person:\n",
    "    sex = \"male\"\n",
    "    age = 10\n",
    "    def __init__(self, name):\n",
    "        self.name = name\n",
    "        return\n",
    "    def getInfo(self):\n",
    "        print(\"Name\", self.name)\n",
    "        print(\"Age:\", self.age)\n",
    "        print(\"sex\", self.sex)\n",
    "        return self\n",
    "    @dispatch(str, int)\n",
    "    def setInfo(self, sex, age):\n",
    "        self.sex = sex\n",
    "        self.age = age\n",
    "        return\n",
    "    @dispatch(str)\n",
    "    def setInfo(self, sex):\n",
    "        self.sex = sex\n",
    "        return\n",
    "    \n",
    "person1 = Person('Jane')\n",
    "person1.setInfo(\"Female\")\n",
    "person1.getInfo()"
   ]
  },
  {
   "cell_type": "code",
   "execution_count": null,
   "id": "8a508e93",
   "metadata": {},
   "outputs": [],
   "source": []
  }
 ],
 "metadata": {
  "kernelspec": {
   "display_name": "Python 3 (ipykernel)",
   "language": "python",
   "name": "python3"
  },
  "language_info": {
   "codemirror_mode": {
    "name": "ipython",
    "version": 3
   },
   "file_extension": ".py",
   "mimetype": "text/x-python",
   "name": "python",
   "nbconvert_exporter": "python",
   "pygments_lexer": "ipython3",
   "version": "3.11.3"
  }
 },
 "nbformat": 4,
 "nbformat_minor": 5
}
