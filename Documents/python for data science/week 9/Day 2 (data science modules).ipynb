{
 "cells": [
  {
   "cell_type": "code",
   "execution_count": 12,
   "id": "c43c18f1",
   "metadata": {},
   "outputs": [
    {
     "name": "stdout",
     "output_type": "stream",
     "text": [
      "<class 'numpy.ndarray'>\n",
      "Array size 4\n",
      "Array dtype int32\n",
      "Array shape (4,)\n",
      "Array n dimension 1\n"
     ]
    }
   ],
   "source": [
    "import numpy as np\n",
    "\n",
    "np_array = np.array([1,2,4,6])\n",
    "print(type(np_array))\n",
    "print('Array size',np_array.size)\n",
    "print('Array dtype',np_array.dtype)\n",
    "print('Array shape',np_array.shape)\n",
    "print('Array n dimension',np_array.ndim)"
   ]
  },
  {
   "cell_type": "code",
   "execution_count": 22,
   "id": "f82e38cd",
   "metadata": {},
   "outputs": [
    {
     "name": "stdout",
     "output_type": "stream",
     "text": [
      "[ 2  4  6  8 10 12 14 16 18]\n",
      "(9,)\n",
      "9\n",
      "Array n dimension 1\n",
      "----After rechaping----\n",
      "[[ 2  4  6]\n",
      " [ 8 10 12]\n",
      " [14 16 18]]\n",
      "(3, 3)\n",
      "9\n",
      "Array n dimension 2\n"
     ]
    }
   ],
   "source": [
    "arr_array = np.arange(2,20,2)\n",
    "#print(arr_array)\n",
    "\n",
    "arr_array_reshaped = arr_array.reshape(3,3)\n",
    "print(arr_array)\n",
    "print(arr_array.shape)\n",
    "print(arr_array.size)\n",
    "print('Array n dimension',np_array.ndim)\n",
    "\n",
    "print('----After rechaping----')\n",
    "\n",
    "print(arr_array_reshaped)\n",
    "print(arr_array_reshaped.shape)\n",
    "print(arr_array_reshaped.size)\n",
    "print('Array n dimension',arr_array_reshaped.ndim)"
   ]
  },
  {
   "cell_type": "code",
   "execution_count": 36,
   "id": "84dc3867",
   "metadata": {},
   "outputs": [
    {
     "name": "stdout",
     "output_type": "stream",
     "text": [
      "[ 2  4  6  8 10 12 14 16 18 20 22 24 26 28 30 32 34 36]\n",
      "(18,)\n",
      "18\n",
      "Array n dimension 1\n",
      "----After rechaping----\n",
      "[[[ 2  4]\n",
      "  [ 6  8]\n",
      "  [10 12]]\n",
      "\n",
      " [[14 16]\n",
      "  [18 20]\n",
      "  [22 24]]\n",
      "\n",
      " [[26 28]\n",
      "  [30 32]\n",
      "  [34 36]]]\n",
      "Array shape (3, 3, 2)\n",
      "Array size 18\n",
      "Array n dimension 3\n"
     ]
    }
   ],
   "source": [
    "arr_array = np.arange(2,37,2)\n",
    "#print(arr_array)\n",
    "\n",
    "arr_array_reshaped = arr_array.reshape(3,3,2)\n",
    "print(arr_array)\n",
    "print(arr_array.shape)\n",
    "print(arr_array.size)\n",
    "print('Array n dimension',np_array.ndim)\n",
    "\n",
    "print('----After rechaping----')\n",
    "\n",
    "arr_array_reshaped = arr_array.reshape(3,3,2)\n",
    "print(arr_array_reshaped)\n",
    "print('Array shape',arr_array_reshaped.shape)\n",
    "print('Array size',arr_array_reshaped.size)\n",
    "print('Array n dimension',arr_array_reshaped.ndim)"
   ]
  },
  {
   "cell_type": "code",
   "execution_count": 23,
   "id": "2fd3a7f2",
   "metadata": {},
   "outputs": [
    {
     "name": "stdout",
     "output_type": "stream",
     "text": [
      "12\n",
      "[[ 1  2  3]\n",
      " [ 4  5  6]\n",
      " [ 7  8  9]\n",
      " [10 11 12]]\n"
     ]
    }
   ],
   "source": [
    "array = np.arange(1,13)\n",
    "print(array.size)\n",
    "reshaped = array.reshape(4,3)\n",
    "print(reshaped)"
   ]
  },
  {
   "cell_type": "code",
   "execution_count": 41,
   "id": "b1934145",
   "metadata": {},
   "outputs": [
    {
     "name": "stdout",
     "output_type": "stream",
     "text": [
      "Array size 24\n",
      "[[[ 1  3  5]\n",
      "  [ 7  9 11]]\n",
      "\n",
      " [[13 15 17]\n",
      "  [19 21 23]]\n",
      "\n",
      " [[25 27 29]\n",
      "  [31 33 35]]\n",
      "\n",
      " [[37 39 41]\n",
      "  [43 45 47]]]\n",
      "Array n dimension 3\n"
     ]
    }
   ],
   "source": [
    "#class work\n",
    "\n",
    "array = np.arange(1,49,2)\n",
    "print('Array size',array.size)\n",
    "reshaped = array.reshape(4,2,3)\n",
    "print(reshaped)\n",
    "print('Array n dimension',reshaped.ndim)"
   ]
  },
  {
   "cell_type": "code",
   "execution_count": 44,
   "id": "59a82d96",
   "metadata": {},
   "outputs": [
    {
     "name": "stdout",
     "output_type": "stream",
     "text": [
      "[2.   2.75 3.5  4.25 5.  ]\n",
      "5\n"
     ]
    }
   ],
   "source": [
    "#numpy linspace\n",
    "arr = np.linspace(2,5,5)\n",
    "print(arr)\n",
    "print(arr.size)"
   ]
  },
  {
   "cell_type": "code",
   "execution_count": 49,
   "id": "2243c184",
   "metadata": {},
   "outputs": [
    {
     "name": "stdout",
     "output_type": "stream",
     "text": [
      "[[1. 1. 1.]\n",
      " [1. 1. 1.]]\n",
      "[0. 0. 0. 0. 0. 0. 0. 0. 0. 0.]\n"
     ]
    }
   ],
   "source": [
    "ones_array = np.ones(6)\n",
    "print(ones_array.reshape(2,3))\n",
    "\n",
    "zeros_array = np.zeros(10)\n",
    "print(zeros_array)"
   ]
  },
  {
   "cell_type": "code",
   "execution_count": 56,
   "id": "44c0a27f",
   "metadata": {},
   "outputs": [
    {
     "name": "stdout",
     "output_type": "stream",
     "text": [
      "[ 2  3  4  5  6  7  8  9 10 11 12 13 14 15 16 17 18 19]\n",
      "[ 2  3  4  5  6  7  8  9 10 11 12 13 14 15 16 17 18 19 40]\n",
      "[ 2  3  4  5  6  7  8  9 10 11 12 13 14 15 16 17 18 40]\n"
     ]
    }
   ],
   "source": [
    "array = np.arange(2,20)\n",
    "print(array)\n",
    "\n",
    "array = np.append(array, 40) #to add\n",
    "print(array)\n",
    "\n",
    "array = np.delete(array, -2) #to remove (index -2 or 17 do delete 19)\n",
    "print(array)"
   ]
  },
  {
   "cell_type": "code",
   "execution_count": 75,
   "id": "2f1645ef",
   "metadata": {},
   "outputs": [
    {
     "name": "stdout",
     "output_type": "stream",
     "text": [
      "[0.58249793 0.96496363 0.12692714 0.70050297 0.45766942 0.07220481\n",
      " 0.41170116 0.54033642 0.83844599 0.56817172]\n",
      "[0.07220481 0.12692714 0.41170116 0.45766942 0.54033642 0.56817172\n",
      " 0.58249793 0.70050297 0.83844599 0.96496363]\n",
      "random number 61.33\n"
     ]
    }
   ],
   "source": [
    "array_random = np.random.rand(10)\n",
    "print(array_random)\n",
    "sorted_array = np.sort(array_random)\n",
    "print(sorted_array)\n",
    "\n",
    "random_item = np.random.random()\n",
    "print(\"random number\", round(random_item * 100,2))"
   ]
  },
  {
   "cell_type": "code",
   "execution_count": 78,
   "id": "532051bd",
   "metadata": {},
   "outputs": [
    {
     "name": "stdout",
     "output_type": "stream",
     "text": [
      "[[0.95326065 0.16821319 0.33745799 0.34042666]\n",
      " [0.83712948 0.67862433 0.56707288 0.91316907]\n",
      " [0.46864541 0.90393526 0.12722963 0.7639445 ]]\n",
      "[[9.53260651 1.68213191 3.3745799  3.40426664]\n",
      " [8.37129477 6.78624328 5.67072878 9.13169069]\n",
      " [4.68645411 9.03935261 1.27229626 7.63944496]]\n"
     ]
    }
   ],
   "source": [
    "array_random = np.random.rand(3,4)\n",
    "print(array_random)\n",
    "array_random = array_random * 10\n",
    "print(array_random)\n"
   ]
  },
  {
   "cell_type": "code",
   "execution_count": 87,
   "id": "ff4b205b",
   "metadata": {},
   "outputs": [
    {
     "name": "stdout",
     "output_type": "stream",
     "text": [
      "array_a:  [1 2 3 4 5 6 7 8 9]\n",
      "array_b:  [11 12 13 14 15 16 17 18 19]\n",
      "array_c:  [10 10 10 10 10 10 10 10 10]\n"
     ]
    }
   ],
   "source": [
    "array_a = np.arange(1,10)\n",
    "array_b = np.arange(11,20)\n",
    "\n",
    "print('array_a: ',array_a)\n",
    "print('array_b: ',array_b)\n",
    "\n",
    "array_c = array_b - array_a\n",
    "print('array_c: ',array_c)"
   ]
  },
  {
   "cell_type": "code",
   "execution_count": 86,
   "id": "a08debcf",
   "metadata": {},
   "outputs": [
    {
     "name": "stdout",
     "output_type": "stream",
     "text": [
      "array_a:  [[1 2 3]\n",
      " [4 5 6]\n",
      " [7 8 9]]\n",
      "array_b:  [[11 12 13]\n",
      " [14 15 16]\n",
      " [17 18 19]]\n",
      "array_c:  [[10 10 10]\n",
      " [10 10 10]\n",
      " [10 10 10]]\n"
     ]
    }
   ],
   "source": [
    "array_a = np.arange(1,10)\n",
    "array_b = np.arange(11,20)\n",
    "\n",
    "array_a = array_a.reshape(3,3)\n",
    "array_b = array_b.reshape(3,3)\n",
    "\n",
    "\n",
    "print('array_a: ',array_a)\n",
    "print('array_b: ',array_b)\n",
    "array_c = array_b - array_a\n",
    "print('array_c: ',array_c)"
   ]
  },
  {
   "cell_type": "code",
   "execution_count": null,
   "id": "e32f53f3",
   "metadata": {},
   "outputs": [],
   "source": []
  }
 ],
 "metadata": {
  "kernelspec": {
   "display_name": "Python 3 (ipykernel)",
   "language": "python",
   "name": "python3"
  },
  "language_info": {
   "codemirror_mode": {
    "name": "ipython",
    "version": 3
   },
   "file_extension": ".py",
   "mimetype": "text/x-python",
   "name": "python",
   "nbconvert_exporter": "python",
   "pygments_lexer": "ipython3",
   "version": "3.11.3"
  }
 },
 "nbformat": 4,
 "nbformat_minor": 5
}
