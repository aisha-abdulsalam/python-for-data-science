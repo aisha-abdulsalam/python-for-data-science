{
 "cells": [
  {
   "cell_type": "code",
   "execution_count": 3,
   "id": "538c9647",
   "metadata": {},
   "outputs": [
    {
     "name": "stdout",
     "output_type": "stream",
     "text": [
      "Help on function addNumbers in module __main__:\n",
      "\n",
      "addNumbers(num1, num2)\n",
      "    This function returns to sum of 2 numbers\n",
      "\n"
     ]
    },
    {
     "data": {
      "text/plain": [
       "'This function returns to sum of 2 numbers'"
      ]
     },
     "execution_count": 3,
     "metadata": {},
     "output_type": "execute_result"
    }
   ],
   "source": [
    "def addNumbers(num1, num2):\n",
    "    \"This function returns to sum of 2 numbers\"\n",
    "    summed_value = num1 + num2\n",
    "    return summed_value\n",
    "\n",
    "help(addNumbers)\n",
    "\n",
    "addNumbers.__doc__"
   ]
  },
  {
   "cell_type": "code",
   "execution_count": 4,
   "id": "387f613d",
   "metadata": {},
   "outputs": [
    {
     "name": "stdout",
     "output_type": "stream",
     "text": [
      "120\n"
     ]
    }
   ],
   "source": [
    "def factorial_interative(n):\n",
    "    num = 1\n",
    "    while n >= 1:\n",
    "        num = num * n\n",
    "        n = n-1\n",
    "    return num\n",
    "\n",
    "factorial = factorial_interative(5)\n",
    "print(factorial)\n",
    "#5! = 5*4*3*2*1"
   ]
  },
  {
   "cell_type": "code",
   "execution_count": 11,
   "id": "0d8737c0",
   "metadata": {},
   "outputs": [
    {
     "name": "stdout",
     "output_type": "stream",
     "text": [
      "[6, 9, 11, 14]\n"
     ]
    }
   ],
   "source": [
    "list1 = [2,3,4,5]\n",
    "list2 = [4,6,7,9]\n",
    "result = [6,9,11,14]\n",
    "\n",
    "def addList(list_a, list_b):\n",
    "    length = len(list_a)\n",
    "    if length != len(list_b):\n",
    "        return \"Error: the lenth of both list must be the same\"\n",
    "    result_list = []\n",
    "    for i in range (length):\n",
    "        item = list_a[i] + list_b[i]\n",
    "        result_list.append(item)\n",
    "    return result_list\n",
    "\n",
    "\n",
    "print(addList(list1,list2))"
   ]
  },
  {
   "cell_type": "code",
   "execution_count": 16,
   "id": "095dccaa",
   "metadata": {},
   "outputs": [
    {
     "name": "stdout",
     "output_type": "stream",
     "text": [
      "54\n"
     ]
    }
   ],
   "source": [
    "\"difine a function that returns the sum of squares of each item in alist, and call the functin with a simple list.\"\n",
    "list1 = [2,3,4,5]\n",
    "#sum_of_squares = 4 + 9 + 16 + 25 = 54\n",
    "\n",
    "def SumOfSquares(list_a):\n",
    "    sum_of_square = 0\n",
    "    for item in list_a:\n",
    "        sum_of_square += item * item\n",
    "    return sum_of_square\n",
    "\n",
    "print(SumOfSquares(list1))"
   ]
  },
  {
   "cell_type": "code",
   "execution_count": 19,
   "id": "3da84f3a",
   "metadata": {},
   "outputs": [
    {
     "name": "stdout",
     "output_type": "stream",
     "text": [
      "Name:  samuel\n",
      "Age:  15\n"
     ]
    }
   ],
   "source": [
    "def printinfo(name, age = 35):\n",
    "    \"this function prints the info that are passed into the function\"\n",
    "    print(\"Name: \", name)\n",
    "    print(\"Age: \", age)\n",
    "    return\n",
    "\n",
    "printinfo(\"samuel\", 15)"
   ]
  },
  {
   "cell_type": "code",
   "execution_count": 24,
   "id": "70610c82",
   "metadata": {},
   "outputs": [
    {
     "name": "stdout",
     "output_type": "stream",
     "text": [
      "(40, 50, 90, 40, 100, 80, 89, 30, 50, 67, 89, 32)\n",
      "Name:  Joel\n",
      "total score: 757\n"
     ]
    }
   ],
   "source": [
    "#function with variable lenth argument\n",
    "\n",
    "def scoreTotal(name, *scores):\n",
    "    print(scores)\n",
    "    print(\"Name: \", name)\n",
    "    total = 0\n",
    "    for score in scores:\n",
    "        total += score\n",
    "    print(\"total score:\", total)\n",
    "    return\n",
    "\n",
    "#name = input(\"what is your: \")\n",
    "#scores = input(\"input your scores seperated by comma e.g 60, 79: \")\n",
    "#print(scores)\n",
    "scoreTotal(\"Joel\", 40,50,90,40, 100, 80, 89, 30, 50, 67, 89, 32)"
   ]
  },
  {
   "cell_type": "code",
   "execution_count": 26,
   "id": "6cc3e8ad",
   "metadata": {},
   "outputs": [
    {
     "name": "stdout",
     "output_type": "stream",
     "text": [
      "{'param1': 50, 'param2': 80, 'param3': 'lagos'}\n",
      "param1 50\n",
      "param2 80\n",
      "param3 lagos\n",
      "[30, 40, 45, 50, 90]\n"
     ]
    }
   ],
   "source": [
    "#function with keyword argument\n",
    "def kw_args_function(**args):\n",
    "    print(args)\n",
    "    for key, value in args.items():\n",
    "        print(key, value)\n",
    "    return\n",
    "\n",
    "kw_args_function(param1 = 50, param2 = 80, param3 = \"lagos\")\n",
    "\n",
    "#calling key_args(key word argument) function\n",
    "list1 = [40,30,50,45,90]\n",
    "list1.sort()\n",
    "print(list1)\n",
    "    "
   ]
  },
  {
   "cell_type": "code",
   "execution_count": 30,
   "id": "d2249f87",
   "metadata": {},
   "outputs": [
    {
     "name": "stdout",
     "output_type": "stream",
     "text": [
      "maths 89\n",
      "english 67\n",
      "agric 90\n",
      "chemistry 59\n"
     ]
    }
   ],
   "source": [
    "\"define a function that accepts (subject and score) keyword arguements of students' score, print out each subject and the corresponding score\"\n",
    "\n",
    "def kw_args_subject_scores(**subjects):\n",
    "    for subject, score in subjects.items():\n",
    "        print(subject, score)\n",
    "    return\n",
    "kw_args_subject_scores(maths = 89, english = 67, agric = 90, chemistry = 59)"
   ]
  },
  {
   "cell_type": "code",
   "execution_count": null,
   "id": "137769c7",
   "metadata": {},
   "outputs": [],
   "source": []
  }
 ],
 "metadata": {
  "kernelspec": {
   "display_name": "Python 3 (ipykernel)",
   "language": "python",
   "name": "python3"
  },
  "language_info": {
   "codemirror_mode": {
    "name": "ipython",
    "version": 3
   },
   "file_extension": ".py",
   "mimetype": "text/x-python",
   "name": "python",
   "nbconvert_exporter": "python",
   "pygments_lexer": "ipython3",
   "version": "3.11.3"
  }
 },
 "nbformat": 4,
 "nbformat_minor": 5
}
