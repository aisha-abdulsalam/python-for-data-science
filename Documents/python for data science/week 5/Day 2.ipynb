{
 "cells": [
  {
   "cell_type": "code",
   "execution_count": 4,
   "id": "e338279a",
   "metadata": {},
   "outputs": [
    {
     "name": "stdout",
     "output_type": "stream",
     "text": [
      "total outside the function 0\n",
      "total before declaration 0\n",
      "Total within the function 15\n"
     ]
    }
   ],
   "source": [
    "total = 0\n",
    "\n",
    "def sumNumbers(num1, num2):\n",
    "    global total\n",
    "    print(\"total before declaration\", total)\n",
    "    total = num1 + num2\n",
    "    print(\"Total within the function\", total)\n",
    "    return\n",
    "\n",
    "print(\"total outside the function\", total)\n",
    "sumNumbers(6,9)"
   ]
  },
  {
   "cell_type": "code",
   "execution_count": 5,
   "id": "769446bf",
   "metadata": {},
   "outputs": [
    {
     "name": "stdout",
     "output_type": "stream",
     "text": [
      "120\n",
      "120\n"
     ]
    }
   ],
   "source": [
    "#Iterative version\n",
    "def factorial_iter(n):\n",
    "    if n <= 1:\n",
    "        return 1\n",
    "    total = 1\n",
    "    while n >=1:\n",
    "        total = total * n\n",
    "        n = n - 1\n",
    "    return total\n",
    "        \n",
    "#Recursive version for factorial\n",
    "def factorial_recur(n):\n",
    "    if n <= 1:\n",
    "        return 1\n",
    "    total = n * factorial_recur(n-1)\n",
    "    return total\n",
    "\n",
    "#fact(5) = 5 * fact(4)(24) = 120\n",
    "#fact(4) = 4 * fact(3)(6) = 24\n",
    "#fact(3) = 3 * fact(2)(2) = 6\n",
    "#fact(2) = 2 * fact(1)(1) = 2\n",
    "#fact(1) = 1\n",
    "   \n",
    "print(factorial_iter(5))\n",
    "print(factorial_iter(5))"
   ]
  },
  {
   "cell_type": "code",
   "execution_count": 3,
   "id": "12504d4f",
   "metadata": {},
   "outputs": [
    {
     "name": "stdout",
     "output_type": "stream",
     "text": [
      "1\n",
      "3\n",
      "5\n",
      "4\n",
      "5\n",
      "7\n",
      "4\n",
      "2\n",
      "6\n",
      "4\n",
      "8\n",
      "9\n",
      "John\n",
      "5\n",
      "8\n",
      "8\n",
      "5\n",
      "first\n"
     ]
    }
   ],
   "source": [
    "#Recursively extracting items in a nested list\n",
    "list1 = [1,3,5, [4,5,7,[4,2,6,[4,8,9, \"John\"]]], 5,8, (8,5), {\"first\":50}]\n",
    "\n",
    "def extract_items_recur(list_input):\n",
    "    for item in list_input:\n",
    "        if type(item) in [list, tuple, dict]:\n",
    "            extract_items_recur(item)\n",
    "        else:\n",
    "            print(item)\n",
    "    return\n",
    "extract_items_recur(list1)\n",
    "        "
   ]
  },
  {
   "cell_type": "code",
   "execution_count": 8,
   "id": "fa6050fe",
   "metadata": {},
   "outputs": [
    {
     "name": "stdout",
     "output_type": "stream",
     "text": [
      "[25, 49, 64]\n"
     ]
    }
   ],
   "source": [
    "def squareNum(number):\n",
    "    return number**2\n",
    "\n",
    "\n",
    "list_a = [5,7,8]\n",
    "mapped_list = map(squareNum, list_a)\n",
    "print(list(mapped_list))\n",
    "\n"
   ]
  },
  {
   "cell_type": "code",
   "execution_count": 15,
   "id": "be854a48",
   "metadata": {},
   "outputs": [
    {
     "name": "stdout",
     "output_type": "stream",
     "text": [
      "['20', '30', '40']\n",
      "[20, 30, 40]\n"
     ]
    }
   ],
   "source": [
    "def castToInt(str_int):\n",
    "    return int(str_int)\n",
    "\n",
    "list_b = [\"20\", \"30\", \"40\"]\n",
    "print(list_b)\n",
    "map_list = map(castToInt, list_b)\n",
    "\n",
    "print(list(map_list))\n"
   ]
  },
  {
   "cell_type": "code",
   "execution_count": 21,
   "id": "6c43de68",
   "metadata": {},
   "outputs": [
    {
     "name": "stdout",
     "output_type": "stream",
     "text": [
      "Enter scores separeated by comma e.g 6,7,8: 20,30,40\n",
      "[20, 30, 40]\n"
     ]
    }
   ],
   "source": [
    "def castToInt(str_int):\n",
    "    return int(str_int)\n",
    "\n",
    "values = input(\"Enter scores separeated by comma e.g 6,7,8: \")\n",
    "#print(type(values))\n",
    "#print(values)\n",
    "values_splitted = values.split(\",\")\n",
    "#print(values_splitted)\n",
    "casted_list = map(castToInt, values_splitted)\n",
    "print(list(casted_list))\n"
   ]
  },
  {
   "cell_type": "code",
   "execution_count": null,
   "id": "f56fbee1",
   "metadata": {},
   "outputs": [],
   "source": [
    "def sumOfNum(number):\n",
    "    return number\n",
    "\n",
    "values = input(\"Enter values\")\n",
    "values_splitted = values.split(\";\")\n",
    "total = sum(values)\n",
    "mapped_values = map(sumOfNum, values )\n",
    "print(list(mapped_values))\n"
   ]
  },
  {
   "cell_type": "code",
   "execution_count": 1,
   "id": "acbf5b0d",
   "metadata": {},
   "outputs": [
    {
     "name": "stdout",
     "output_type": "stream",
     "text": [
      "[8, 10, 16, 20]\n"
     ]
    }
   ],
   "source": [
    "#working with filter built-in function\n",
    "def even(num):\n",
    "    if num % 2 == 0:\n",
    "        return True\n",
    "    else:\n",
    "        return False\n",
    "    \n",
    "list_c = [5, 7, 8, 10, 11, 13, 15, 16, 17, 19, 20]\n",
    "filtered_list = filter(even, list_c)\n",
    "print(list(filtered_list))"
   ]
  },
  {
   "cell_type": "code",
   "execution_count": 1,
   "id": "11ca7cd6",
   "metadata": {},
   "outputs": [
    {
     "name": "stdout",
     "output_type": "stream",
     "text": [
      "[9, 25, 49, 64]\n"
     ]
    }
   ],
   "source": [
    "#working with lambda\n",
    "#square each item in a list using lambda\n",
    "\n",
    "list1 = [3,5,7,8]\n",
    "list_map = map(lambda i:i**2, list1)\n",
    "print(list(list_map))"
   ]
  },
  {
   "cell_type": "code",
   "execution_count": 2,
   "id": "47b848c3",
   "metadata": {},
   "outputs": [
    {
     "name": "stdout",
     "output_type": "stream",
     "text": [
      "[28, 40, 54]\n"
     ]
    }
   ],
   "source": [
    "list1 = [4,5,6]\n",
    "list2 = [7,8,9]\n",
    "multiplied = map(lambda a, b: a*b, list1, list2)\n",
    "print(list(multiplied))\n"
   ]
  },
  {
   "cell_type": "code",
   "execution_count": null,
   "id": "ed41f598",
   "metadata": {},
   "outputs": [],
   "source": []
  }
 ],
 "metadata": {
  "kernelspec": {
   "display_name": "Python 3 (ipykernel)",
   "language": "python",
   "name": "python3"
  },
  "language_info": {
   "codemirror_mode": {
    "name": "ipython",
    "version": 3
   },
   "file_extension": ".py",
   "mimetype": "text/x-python",
   "name": "python",
   "nbconvert_exporter": "python",
   "pygments_lexer": "ipython3",
   "version": "3.11.3"
  }
 },
 "nbformat": 4,
 "nbformat_minor": 5
}
