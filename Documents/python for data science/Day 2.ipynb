{
 "cells": [
  {
   "cell_type": "code",
   "execution_count": 5,
   "id": "3b263ba1",
   "metadata": {},
   "outputs": [
    {
     "name": "stdout",
     "output_type": "stream",
     "text": [
      "False\n",
      "True\n",
      "-- testing logical operators --\n",
      "False\n",
      "True\n",
      "True\n"
     ]
    }
   ],
   "source": [
    "#operations with comparison operators\n",
    "# ==, >, <, <=, >=, !=...\n",
    "\n",
    "a = 5\n",
    "b = 3\n",
    "c = 20\n",
    "\n",
    "print(b > a)\n",
    "print(a <= c)\n",
    "\n",
    "#using logical operators\n",
    "\n",
    "print(\"-- testing logical operators --\")\n",
    "print(a>b and a>c)\n",
    "print(a>b or a>c)\n",
    "print(a!=b or a==c)"
   ]
  },
  {
   "cell_type": "code",
   "execution_count": 8,
   "id": "74a16e36",
   "metadata": {},
   "outputs": [
    {
     "name": "stdout",
     "output_type": "stream",
     "text": [
      "18.2\n",
      "0.5\n",
      "12\n"
     ]
    }
   ],
   "source": [
    "#using built-in functions\n",
    "\n",
    "a = -18.2\n",
    "b = abs(a)\n",
    "print(b)\n",
    "print(abs(-0.5))\n",
    "print(abs(12))"
   ]
  },
  {
   "cell_type": "code",
   "execution_count": 10,
   "id": "5f95fefa",
   "metadata": {},
   "outputs": [
    {
     "name": "stdout",
     "output_type": "stream",
     "text": [
      "min score = 21\n",
      "max score = 90\n"
     ]
    }
   ],
   "source": [
    "#using built-in functions\n",
    "\n",
    "scores = [40,46,60,23,80,58,40,21,45,90]\n",
    "min_score = min(scores)\n",
    "max_score = max(scores)\n",
    "\n",
    "print('min score =', min_score)\n",
    "print('max score =', max_score)"
   ]
  },
  {
   "cell_type": "code",
   "execution_count": 22,
   "id": "b644a4ef",
   "metadata": {},
   "outputs": [
    {
     "name": "stdout",
     "output_type": "stream",
     "text": [
      "503\n",
      "50.3\n",
      "11\n"
     ]
    }
   ],
   "source": [
    "#using built-in functions\n",
    "\n",
    "scores = [40,46,60,23,80,58,40,21,45,90]\n",
    "mystr = \"Hello world\"\n",
    "total = sum(scores)\n",
    "\n",
    "#str_list = ['Samuel is boy', 'oge is girl']\n",
    "#print(len(str_list))\n",
    "\n",
    "print(total)\n",
    "print(sum(scores)/len(scores))\n",
    "print(len(mystr))\n"
   ]
  },
  {
   "cell_type": "code",
   "execution_count": 1,
   "id": "8b729fdd",
   "metadata": {},
   "outputs": [
    {
     "name": "stdout",
     "output_type": "stream",
     "text": [
      "my score is = 30\n",
      "<class 'str'>\n",
      "<class 'float'>\n",
      "50\n",
      "<class 'int'>\n"
     ]
    }
   ],
   "source": [
    "#using built-in functions\n",
    "\n",
    "a = 30\n",
    "b = 'my score is = '\n",
    "c = b + str(a)\n",
    "\n",
    "print(c)\n",
    "print(type(str(a)))\n",
    "\n",
    "d = 50.7\n",
    "print(type(d))\n",
    "\n",
    "e = int(d)\n",
    "print(e)\n",
    "print(type(e))"
   ]
  },
  {
   "cell_type": "code",
   "execution_count": 4,
   "id": "d3a9a53a",
   "metadata": {},
   "outputs": [
    {
     "name": "stdout",
     "output_type": "stream",
     "text": [
      "minimum value =  24\n",
      "maximum value =  90\n",
      "mean value =  57.375\n"
     ]
    }
   ],
   "source": [
    "#class work\n",
    "\n",
    "scores = [45,60,69,63,78,30,24,90]\n",
    "total = sum(scores)\n",
    "no_items = len(scores)\n",
    "mean = total/no_items\n",
    "\n",
    "print(\"minimum value = \", min(scores))\n",
    "print(\"maximum value = \", max(scores))\n",
    "print(\"mean value = \", (mean))"
   ]
  },
  {
   "cell_type": "code",
   "execution_count": 5,
   "id": "2039e968",
   "metadata": {},
   "outputs": [
    {
     "name": "stdout",
     "output_type": "stream",
     "text": [
      "num_range =  [0, 1, 2, 3, 4, 5, 6, 7, 8, 9]\n",
      "num_range2 =  [1, 2, 3, 4, 5, 6, 7, 8, 9]\n",
      "num_range3 =  [1, 3, 5, 7, 9]\n",
      "num_range4 =  [5, 6, 7, 8, 9, 10, 11, 12, 13, 14, 15, 16, 17, 18, 19, 20]\n"
     ]
    }
   ],
   "source": [
    "# range from 0 to 10 = 0,1,2,3,4,5,6,7,8,9\n",
    "\n",
    "n = 10\n",
    "start_point = 1\n",
    "step = 2\n",
    "num_range = range(n)  #values from 0 to n-1\n",
    "num_range2 = range(start_point, n) # values from start_point to n-1 - 1,2,3,...9\n",
    "num_range3 = range(start_point, n, step) # values from start_point to n-1 - 1,3,5,7,9\n",
    "num_range4 = range(5, 21)\n",
    "\n",
    "print(\"num_range = \", list(num_range))\n",
    "print(\"num_range2 = \", list(num_range2))\n",
    "print(\"num_range3 = \", list(num_range3))\n",
    "print(\"num_range4 = \", list(num_range4))\n",
    "\n"
   ]
  },
  {
   "cell_type": "code",
   "execution_count": 9,
   "id": "45d38e36",
   "metadata": {},
   "outputs": [
    {
     "name": "stdout",
     "output_type": "stream",
     "text": [
      "AISHA\n",
      "aisha\n",
      "Aisha\n",
      "Python For Data Science\n"
     ]
    }
   ],
   "source": [
    "# lower, upper, strip, join, split\n",
    "\n",
    "name = \"aisha\"\n",
    "name_uppercase = name.upper()\n",
    "name_lowercase = name_uppercase.lower()\n",
    "\n",
    "print(name_uppercase)\n",
    "print(name_lowercase)\n",
    "\n",
    "print(name.capitalize())\n",
    "\n",
    "heading = \"python for data science\"\n",
    "print(heading.title())"
   ]
  },
  {
   "cell_type": "code",
   "execution_count": 16,
   "id": "33d99a95",
   "metadata": {},
   "outputs": [
    {
     "name": "stdout",
     "output_type": "stream",
     "text": [
      "['Amos', 'Dayo', 'Stephanie', 'Nse', 'Aisha', 'Emmanuel']\n",
      "Amos|Dayo|Stephanie|Nse|Aisha|Emmanuel\n"
     ]
    }
   ],
   "source": [
    "#using the split() on a string\n",
    "mystring = \"Amos Dayo Stephanie Nse Aisha Emmanuel\"\n",
    "combined_list = mystring.split(\" \")\n",
    "\n",
    "print(combined_list)\n",
    "\n",
    "#using join() to transform a list to a string\n",
    "joined_str = \"|\".join(combined_list)\n",
    "\n",
    "print(joined_str)"
   ]
  },
  {
   "cell_type": "code",
   "execution_count": null,
   "id": "20a33b6a",
   "metadata": {},
   "outputs": [],
   "source": [
    "\"\"\"\n",
    "git add .\n",
    "\n",
    "git commit -m \"work for week 2, day 2\"\n",
    "\n",
    "git push origin master"
   ]
  },
  {
   "cell_type": "code",
   "execution_count": null,
   "id": "6e9fcb70",
   "metadata": {},
   "outputs": [],
   "source": []
  }
 ],
 "metadata": {
  "kernelspec": {
   "display_name": "Python 3 (ipykernel)",
   "language": "python",
   "name": "python3"
  },
  "language_info": {
   "codemirror_mode": {
    "name": "ipython",
    "version": 3
   },
   "file_extension": ".py",
   "mimetype": "text/x-python",
   "name": "python",
   "nbconvert_exporter": "python",
   "pygments_lexer": "ipython3",
   "version": "3.11.3"
  }
 },
 "nbformat": 4,
 "nbformat_minor": 5
}
