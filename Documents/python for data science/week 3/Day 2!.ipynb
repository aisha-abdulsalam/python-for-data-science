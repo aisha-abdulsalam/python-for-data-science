{
 "cells": [
  {
   "cell_type": "code",
   "execution_count": null,
   "id": "244c0e46",
   "metadata": {},
   "outputs": [],
   "source": []
  },
  {
   "cell_type": "code",
   "execution_count": null,
   "id": "95244922",
   "metadata": {},
   "outputs": [],
   "source": []
  },
  {
   "cell_type": "code",
   "execution_count": null,
   "id": "c537111a",
   "metadata": {},
   "outputs": [],
   "source": []
  },
  {
   "cell_type": "code",
   "execution_count": null,
   "id": "a53561bf",
   "metadata": {},
   "outputs": [],
   "source": []
  },
  {
   "cell_type": "code",
   "execution_count": null,
   "id": "fa44e99e",
   "metadata": {},
   "outputs": [],
   "source": []
  },
  {
   "cell_type": "code",
   "execution_count": null,
   "id": "98da1d01",
   "metadata": {},
   "outputs": [],
   "source": []
  },
  {
   "cell_type": "code",
   "execution_count": null,
   "id": "73f9d205",
   "metadata": {},
   "outputs": [],
   "source": []
  },
  {
   "cell_type": "code",
   "execution_count": null,
   "id": "27e71536",
   "metadata": {},
   "outputs": [],
   "source": []
  },
  {
   "cell_type": "code",
   "execution_count": 1,
   "id": "b63110c2",
   "metadata": {},
   "outputs": [
    {
     "name": "stdout",
     "output_type": "stream",
     "text": [
      "2 square = 4\n",
      "3 square = 9\n",
      "5 square = 25\n",
      "8 square = 64\n",
      "12 square = 144\n",
      "7 square = 49\n"
     ]
    }
   ],
   "source": [
    "number_list = [2,3,5,8,12,7]\n",
    "for x in number_list:\n",
    "    print(x, \"square =\", x*x)"
   ]
  },
  {
   "cell_type": "code",
   "execution_count": 2,
   "id": "403a5e5d",
   "metadata": {},
   "outputs": [
    {
     "name": "stdout",
     "output_type": "stream",
     "text": [
      "2 square = 4\n",
      "3 square = 9\n",
      "5 square = 25\n",
      "8 square = 64\n",
      "12 square = 144\n",
      "7 square = 49\n"
     ]
    }
   ],
   "source": [
    "number_list = [2,3,5,8,12,7]\n",
    "index = 0\n",
    "length = len(number_list)\n",
    "while (index < length):\n",
    "    print(number_list[index], \"square =\", number_list[index]**2)\n",
    "    index +=1"
   ]
  },
  {
   "cell_type": "code",
   "execution_count": 1,
   "id": "37a3b3b7",
   "metadata": {},
   "outputs": [
    {
     "name": "stdout",
     "output_type": "stream",
     "text": [
      "2 square = 4\n",
      "8 square = 64\n",
      "12 square = 144\n"
     ]
    }
   ],
   "source": [
    "#using conditionals in loop\n",
    "#printing only even numbers\n",
    "\n",
    "number_list = [2,3,5,8,12,7]\n",
    "for x in number_list:\n",
    "    square = x**2\n",
    "    if(square%2 ==0):\n",
    "        print(x, \"square =\", square)"
   ]
  },
  {
   "cell_type": "code",
   "execution_count": 12,
   "id": "1c1a2984",
   "metadata": {},
   "outputs": [
    {
     "name": "stdout",
     "output_type": "stream",
     "text": [
      "\n",
      "for 1\n",
      "6\n",
      "7\n",
      "8\n",
      "9\n",
      "10\n",
      "\n",
      "for 2\n",
      "12\n",
      "14\n",
      "16\n",
      "18\n",
      "20\n",
      "\n",
      "for 3\n",
      "18\n",
      "21\n",
      "24\n",
      "27\n",
      "30\n",
      "\n",
      "for 4\n",
      "24\n",
      "28\n",
      "32\n",
      "36\n",
      "40\n",
      "\n",
      "for 5\n",
      "30\n",
      "35\n",
      "40\n",
      "45\n",
      "50\n"
     ]
    }
   ],
   "source": [
    "#Nested loop\n",
    "num_list1 = [1,2,3,4,5]\n",
    "num_list2 = [6,7,8,9,10]\n",
    "\n",
    "for x in num_list1:\n",
    "    print(\"\\nfor\", x)\n",
    "    for y in num_list2:\n",
    "        print(x*y)"
   ]
  },
  {
   "cell_type": "code",
   "execution_count": 11,
   "id": "acb5556c",
   "metadata": {},
   "outputs": [
    {
     "name": "stdout",
     "output_type": "stream",
     "text": [
      "\n",
      "for 1\n",
      "1 x 6 = 6\n",
      "1 x 7 = 7\n",
      "1 x 8 = 8\n",
      "1 x 9 = 9\n",
      "1 x 10 = 10\n",
      "\n",
      "for 2\n",
      "2 x 6 = 12\n",
      "2 x 7 = 14\n",
      "2 x 8 = 16\n",
      "2 x 9 = 18\n",
      "2 x 10 = 20\n",
      "\n",
      "for 3\n",
      "3 x 6 = 18\n",
      "3 x 7 = 21\n",
      "3 x 8 = 24\n",
      "3 x 9 = 27\n",
      "3 x 10 = 30\n",
      "\n",
      "for 4\n",
      "4 x 6 = 24\n",
      "4 x 7 = 28\n",
      "4 x 8 = 32\n",
      "4 x 9 = 36\n",
      "4 x 10 = 40\n",
      "\n",
      "for 5\n",
      "5 x 6 = 30\n",
      "5 x 7 = 35\n",
      "5 x 8 = 40\n",
      "5 x 9 = 45\n",
      "5 x 10 = 50\n"
     ]
    }
   ],
   "source": [
    "#Nested loop\n",
    "num_list1 = [1,2,3,4,5]   #range(1,6)\n",
    "num_list2 = [6,7,8,9,10]  #range(6,10)\n",
    "\n",
    "for x in num_list1:\n",
    "    print(\"\\nfor\", x)\n",
    "    for y in num_list2:\n",
    "        print(x, \"x\", y, \"=\", x*y)"
   ]
  },
  {
   "cell_type": "code",
   "execution_count": 30,
   "id": "3f816214",
   "metadata": {},
   "outputs": [
    {
     "name": "stdout",
     "output_type": "stream",
     "text": [
      "for 1\n",
      "1 x 1 = 1\n",
      "1 x 2 = 2\n",
      "1 x 3 = 3\n",
      "1 x 4 = 4\n",
      "for 2\n",
      "2 x 1 = 2\n",
      "2 x 2 = 4\n",
      "2 x 3 = 6\n",
      "2 x 4 = 8\n",
      "for 3\n",
      "3 x 1 = 3\n",
      "3 x 2 = 6\n",
      "3 x 3 = 9\n",
      "3 x 4 = 12\n",
      "for 4\n",
      "4 x 1 = 4\n",
      "4 x 2 = 8\n",
      "4 x 3 = 12\n",
      "4 x 4 = 16\n"
     ]
    }
   ],
   "source": [
    "#?___?___?___?__?\n",
    "x = range(1,5)\n",
    "y = range(1,5)\n",
    "\n",
    "for item1 in x:\n",
    "    print(\"for\", item1)\n",
    "    for item2 in y:\n",
    "        print(item1, \"x\", item2, \"=\",item1*item2)"
   ]
  },
  {
   "cell_type": "code",
   "execution_count": 31,
   "id": "8b0c6834",
   "metadata": {},
   "outputs": [
    {
     "name": "stdout",
     "output_type": "stream",
     "text": [
      "cow\n"
     ]
    }
   ],
   "source": [
    "#using break statement in a loop\n",
    "animals = [\"cow\", \"goat\", \"dog\", \"cat\"]\n",
    "for animal in animals:\n",
    "    \n",
    "    if animal ==\"goat\":\n",
    "        break\n",
    "    print(animal)"
   ]
  },
  {
   "cell_type": "code",
   "execution_count": 26,
   "id": "a86f1e6d",
   "metadata": {},
   "outputs": [
    {
     "name": "stdout",
     "output_type": "stream",
     "text": [
      "cow\n",
      "dog\n",
      "cat\n"
     ]
    }
   ],
   "source": [
    "#using break statement in a loop\n",
    "animals = [\"cow\", \"goat\", \"dog\", \"cat\"]\n",
    "for animal in animals:\n",
    "    \n",
    "    if animal ==\"goat\":\n",
    "        continue\n",
    "    print(animal)"
   ]
  },
  {
   "cell_type": "code",
   "execution_count": 28,
   "id": "32c815eb",
   "metadata": {},
   "outputs": [
    {
     "name": "stdout",
     "output_type": "stream",
     "text": [
      "cow\n",
      "goat\n"
     ]
    }
   ],
   "source": [
    "#using break statement in a loop\n",
    "animals = [\"cow\", \"goat\", \"dog\", \"cat\"]\n",
    "for animal in animals:\n",
    "    print(animal)\n",
    "    if animal ==\"goat\":\n",
    "        break\n",
    "    "
   ]
  },
  {
   "cell_type": "code",
   "execution_count": null,
   "id": "118fde5b",
   "metadata": {},
   "outputs": [],
   "source": []
  }
 ],
 "metadata": {
  "kernelspec": {
   "display_name": "Python 3 (ipykernel)",
   "language": "python",
   "name": "python3"
  },
  "language_info": {
   "codemirror_mode": {
    "name": "ipython",
    "version": 3
   },
   "file_extension": ".py",
   "mimetype": "text/x-python",
   "name": "python",
   "nbconvert_exporter": "python",
   "pygments_lexer": "ipython3",
   "version": "3.11.3"
  }
 },
 "nbformat": 4,
 "nbformat_minor": 5
}
