{
 "cells": [
  {
   "cell_type": "code",
   "execution_count": 5,
   "id": "6b44dfdf",
   "metadata": {},
   "outputs": [
    {
     "name": "stdout",
     "output_type": "stream",
     "text": [
      "I\n",
      "G\n",
      "G\n",
      "k\n"
     ]
    }
   ],
   "source": [
    "#Accessing item in an iterable using indexing\n",
    "str_iterable = \"Geeks for GeeksI\"\n",
    "last_item = str_iterable[-1]\n",
    "print(last_item)\n",
    "\n",
    "print(str_iterable[0])\n",
    "print(str_iterable[-len(str_iterable)])\n",
    "print(str_iterable[3])"
   ]
  },
  {
   "cell_type": "code",
   "execution_count": 9,
   "id": "b7c4ee63",
   "metadata": {},
   "outputs": [
    {
     "name": "stdout",
     "output_type": "stream",
     "text": [
      "Ade\n",
      "simi\n"
     ]
    }
   ],
   "source": [
    "list_iterable = ['Simi', 'Kola', 50, 70, 'Ade']\n",
    "last_item = list_iterable[-1]\n",
    "print(last_item) \n",
    "print(list_iterable[0])                 "
   ]
  },
  {
   "cell_type": "code",
   "execution_count": 17,
   "id": "585e156a",
   "metadata": {},
   "outputs": [
    {
     "name": "stdout",
     "output_type": "stream",
     "text": [
      "for GeeksI\n",
      "for\n",
      "for\n",
      "['Kola', 50, 70, 'Ade']\n",
      "['Kola', 50, 70]\n"
     ]
    }
   ],
   "source": [
    "#slicing an iterable using indexing\n",
    "str_iterable = \"Geeks for GeeksI\"\n",
    "\n",
    "\n",
    "sliced_str = str_iterable[6:]\n",
    "print(sliced_str)\n",
    "sliced_str1 = str_iterable[6:9]\n",
    "print(sliced_str2)\n",
    "sliced_str2 = str_iterable[-10:-7]\n",
    "print(sliced_str2)\n",
    "\n",
    "list_iterable = ['Simi', 'Kola', 50, 70, 'Ade']\n",
    "print(list_iterable[1:])\n",
    "print(list_iterable[1:4])  "
   ]
  },
  {
   "cell_type": "code",
   "execution_count": 21,
   "id": "73fc2bc3",
   "metadata": {},
   "outputs": [
    {
     "name": "stdout",
     "output_type": "stream",
     "text": [
      "['Kola', 50, 70]\n"
     ]
    }
   ],
   "source": [
    "list_iterable = ['Simi', 'Kola', 50, 70, 'Ade', 'Sam', 'Joel', 'Sonia', 'Ayo']\n",
    "print(list_iterable[1:4])"
   ]
  },
  {
   "cell_type": "code",
   "execution_count": 38,
   "id": "6c189ed7",
   "metadata": {},
   "outputs": [
    {
     "name": "stdout",
     "output_type": "stream",
     "text": [
      "name\n",
      "name\n"
     ]
    }
   ],
   "source": [
    "#class work\n",
    "str_iterable = \"My name is John\"\n",
    "sliced_str = str_iterable[3:7]\n",
    "print(sliced_str)\n",
    "\n",
    "sliced_str = str_iterable[-12:-8]\n",
    "print(sliced_str)"
   ]
  },
  {
   "cell_type": "code",
   "execution_count": 2,
   "id": "495ee97c",
   "metadata": {},
   "outputs": [
    {
     "name": "stdout",
     "output_type": "stream",
     "text": [
      "please in put your exam score: 70\n",
      "Excellent\n"
     ]
    }
   ],
   "source": [
    "#working with conditionals: if/else\n",
    "\n",
    "score = float(input(\"please in put your exam score: \"))\n",
    "if score < 0:\n",
    "    print(\"Invalid score\")\n",
    "elif score <= 30:\n",
    "    print(\"Fail\")\n",
    "elif score <= 50:\n",
    "    print(\"Pass\")\n",
    "else:\n",
    "    print(\"Excellent\")\n",
    "\n"
   ]
  },
  {
   "cell_type": "code",
   "execution_count": 1,
   "id": "10dabf49",
   "metadata": {},
   "outputs": [
    {
     "name": "stdout",
     "output_type": "stream",
     "text": [
      "please in put your exam score: 70\n",
      "very Good - B\n"
     ]
    }
   ],
   "source": [
    "#working with conditionals: if/else\n",
    "\n",
    "score = float(input(\"please in put your exam score: \"))\n",
    "if score < 0:\n",
    "    print(\"Invalid score\")\n",
    "elif score <= 30:\n",
    "    print(\"Fail - F\")\n",
    "elif score > 30 and score < 41:\n",
    "    print(\"Fair - E\")\n",
    "elif score > 40 and score < 51:\n",
    "    print(\"Ok - D\")\n",
    "elif score > 50 and score < 61:\n",
    "    print(\"Good - c\")\n",
    "elif score > 60 and score < 71:\n",
    "    print(\"very Good - B\")\n",
    "else:\n",
    "    print(\"Excellent - A\")\n",
    "\n"
   ]
  },
  {
   "cell_type": "code",
   "execution_count": 3,
   "id": "b681bf1b",
   "metadata": {},
   "outputs": [],
   "source": [
    "score_range = [[0, \"Invalid\"], [1,30,'F'], [31,40, 'E'], [41,50, 'D']]"
   ]
  },
  {
   "cell_type": "markdown",
   "id": "5af534de",
   "metadata": {},
   "source": [
    "#Class work\n",
    "temperature = input(\"Please enter temperature: \")"
   ]
  },
  {
   "cell_type": "code",
   "execution_count": 6,
   "id": "f97548de",
   "metadata": {},
   "outputs": [
    {
     "name": "stdout",
     "output_type": "stream",
     "text": [
      "Please enter temperature: 51\n",
      "Critical\n"
     ]
    }
   ],
   "source": [
    "#Class work\n",
    "temp = int(input(\"Please enter temperature: \"))\n",
    "if temp < 0:\n",
    "    print(\"invalid temperature\")\n",
    "elif temp >= 0 and temp <=20:\n",
    "    print(\"Mild\")\n",
    "elif temp >= 21 and temp <=50:\n",
    "    print(\"Severe\")\n",
    "else:\n",
    "    print(\"Critical\")\n",
    "    "
   ]
  },
  {
   "cell_type": "code",
   "execution_count": 4,
   "id": "be3f98d9",
   "metadata": {},
   "outputs": [
    {
     "name": "stdout",
     "output_type": "stream",
     "text": [
      "Please enter temperature: 8\n",
      "<class 'str'>\n"
     ]
    }
   ],
   "source": [
    "temperature = input(\"Please enter temperature: \")\n",
    "print(type(temperature))"
   ]
  },
  {
   "cell_type": "code",
   "execution_count": null,
   "id": "909fa25b",
   "metadata": {},
   "outputs": [],
   "source": []
  },
  {
   "cell_type": "code",
   "execution_count": null,
   "id": "3132947f",
   "metadata": {},
   "outputs": [],
   "source": []
  }
 ],
 "metadata": {
  "kernelspec": {
   "display_name": "Python 3 (ipykernel)",
   "language": "python",
   "name": "python3"
  },
  "language_info": {
   "codemirror_mode": {
    "name": "ipython",
    "version": 3
   },
   "file_extension": ".py",
   "mimetype": "text/x-python",
   "name": "python",
   "nbconvert_exporter": "python",
   "pygments_lexer": "ipython3",
   "version": "3.11.3"
  }
 },
 "nbformat": 4,
 "nbformat_minor": 5
}
