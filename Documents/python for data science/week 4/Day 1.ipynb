{
 "cells": [
  {
   "cell_type": "code",
   "execution_count": 4,
   "id": "34f4c088",
   "metadata": {},
   "outputs": [
    {
     "name": "stdout",
     "output_type": "stream",
     "text": [
      "[2, 4, 5, 7, 8, 5, 2, 9]\n",
      "[2, 4, 5, 8, 5, 2, 9]\n",
      "2\n"
     ]
    }
   ],
   "source": [
    "#working with list data structure\n",
    "my_list = [2,4,5,7,8,5,2]\n",
    "\n",
    "my_list.append(9)\n",
    "print(my_list)\n",
    "\n",
    "my_list.remove(7)\n",
    "print(my_list)\n",
    "\n",
    "print(my_list.count(5))"
   ]
  },
  {
   "cell_type": "code",
   "execution_count": 5,
   "id": "e52d7211",
   "metadata": {},
   "outputs": [
    {
     "name": "stdout",
     "output_type": "stream",
     "text": [
      "2 appeared 2 times\n",
      "4 appeared 1 times\n",
      "5 appeared 2 times\n",
      "7 appeared 1 times\n",
      "8 appeared 1 times\n",
      "5 appeared 2 times\n",
      "2 appeared 2 times\n"
     ]
    }
   ],
   "source": [
    "my_list = [2,4,5,7,8,5,2]\n",
    "for i in my_list:\n",
    "    print(i, \"appeared\", my_list.count(i), \"times\")"
   ]
  },
  {
   "cell_type": "code",
   "execution_count": 6,
   "id": "7464cd7a",
   "metadata": {},
   "outputs": [
    {
     "name": "stdout",
     "output_type": "stream",
     "text": [
      "[2, 4, 5, 7, 8, 5, 2]\n",
      "[2, 4, 5, 7, 8, 5, 2, 9]\n"
     ]
    }
   ],
   "source": [
    "my_list = [2,4,5,7,8,5,2]\n",
    "new_list = my_list.copy()\n",
    "my_list.append(9)\n",
    "\n",
    "print(new_list)\n",
    "print(my_list)"
   ]
  },
  {
   "cell_type": "code",
   "execution_count": 7,
   "id": "9d4c0991",
   "metadata": {},
   "outputs": [
    {
     "name": "stdout",
     "output_type": "stream",
     "text": [
      "[2, 4, 5, 7, 8, 5, 2, 9]\n",
      "[2, 4, 5, 7, 8, 5, 2, 9]\n"
     ]
    }
   ],
   "source": [
    "my_list = [2,4,5,7,8,5,2]\n",
    "new_list = my_list\n",
    "\n",
    "my_list.append(9)\n",
    "\n",
    "print(new_list)\n",
    "print(my_list)"
   ]
  },
  {
   "cell_type": "code",
   "execution_count": 16,
   "id": "9de8aebc",
   "metadata": {},
   "outputs": [
    {
     "name": "stdout",
     "output_type": "stream",
     "text": [
      "[6, 3, 0, 1, 3, 5, [3, 4, 5], [5, 6, 8, [4, 3, 1]]]\n",
      "2\n"
     ]
    }
   ],
   "source": [
    "list1 = [2,4,5,7,8]\n",
    "list2 = [6,3,0]\n",
    "list3 = [1,3,5,[3,4,5],[5,6,8,[4,3,1]]]\n",
    "\n",
    "list2.extend(list3)\n",
    "print(list2)\n",
    "print(list1.index(5))"
   ]
  },
  {
   "cell_type": "code",
   "execution_count": 19,
   "id": "96ceb057",
   "metadata": {},
   "outputs": [
    {
     "name": "stdout",
     "output_type": "stream",
     "text": [
      "3\n"
     ]
    }
   ],
   "source": [
    "list3 = [1,3,5,[3,4,5],[5,6,8,[4,3,1]]]\n",
    "\n",
    "list1 = [2,4,5,7,8]\n",
    "number = 7\n",
    "for i in list1:\n",
    "    if i == number:\n",
    "        print(list1.index(i))\n",
    "    "
   ]
  },
  {
   "cell_type": "code",
   "execution_count": 21,
   "id": "f4cc7869",
   "metadata": {},
   "outputs": [
    {
     "name": "stdout",
     "output_type": "stream",
     "text": [
      "[2, 4, 7, 8]\n"
     ]
    }
   ],
   "source": [
    "list1 = [2,4,5,7,8]\n",
    "list1.pop(2)\n",
    "print(list1)"
   ]
  },
  {
   "cell_type": "code",
   "execution_count": 24,
   "id": "9ec3a0e4",
   "metadata": {},
   "outputs": [
    {
     "name": "stdout",
     "output_type": "stream",
     "text": [
      "[]\n"
     ]
    }
   ],
   "source": [
    "list1 = [2,4,5,7,8]\n",
    "list1.clear()\n",
    "#del list1\n",
    "print(list1)"
   ]
  },
  {
   "cell_type": "code",
   "execution_count": 27,
   "id": "60086d7e",
   "metadata": {},
   "outputs": [
    {
     "name": "stdout",
     "output_type": "stream",
     "text": [
      "[0, 1, 2, 4, 5, 7, 8]\n"
     ]
    }
   ],
   "source": [
    "list1 = [4,2,5,1,7,0,8]\n",
    "list1.sort()\n",
    "print(list1)"
   ]
  },
  {
   "cell_type": "code",
   "execution_count": 35,
   "id": "29860fd9",
   "metadata": {},
   "outputs": [
    {
     "name": "stdout",
     "output_type": "stream",
     "text": [
      "[8, 7, 5, 4, 2, 1, 0]\n"
     ]
    }
   ],
   "source": [
    "list1 = [4,2,5,1,7,0,8]\n",
    "\n",
    "list1.sort(reverse=True)\n",
    "print(list1)\n"
   ]
  },
  {
   "cell_type": "code",
   "execution_count": 36,
   "id": "87f198f1",
   "metadata": {},
   "outputs": [
    {
     "name": "stdout",
     "output_type": "stream",
     "text": [
      "[8, 0, 7, 1, 5, 2, 4]\n"
     ]
    }
   ],
   "source": [
    "list1 = [4,2,5,1,7,0,8]\n",
    "new_list1 = list1.copy()\n",
    "list1.sort(reverse=True)\n",
    "#print(list1)\n",
    "print(new_list1[::-1])"
   ]
  },
  {
   "cell_type": "code",
   "execution_count": 37,
   "id": "d597372e",
   "metadata": {},
   "outputs": [
    {
     "name": "stdout",
     "output_type": "stream",
     "text": [
      "[4, 16, 25, 49, 64]\n"
     ]
    }
   ],
   "source": [
    "#create a new list of numbers, whose content is the square of each item in the original list\n",
    "list1 = [2,4,5,7,8]\n",
    "list2 = []\n",
    "for x in list1:\n",
    "    list2.append(x**2)\n",
    "print(list2)"
   ]
  },
  {
   "cell_type": "code",
   "execution_count": 38,
   "id": "3269571f",
   "metadata": {},
   "outputs": [
    {
     "name": "stdout",
     "output_type": "stream",
     "text": [
      "[4, 16, 25, 49, 64]\n"
     ]
    }
   ],
   "source": [
    "#List comprehension version\n",
    "list1 = [2,4,5,7,8]\n",
    "list2 = [x**2 for x in list1]\n",
    "print(list2)"
   ]
  },
  {
   "cell_type": "code",
   "execution_count": 41,
   "id": "15f9ed33",
   "metadata": {},
   "outputs": [
    {
     "name": "stdout",
     "output_type": "stream",
     "text": [
      "[8, 64, 125, 343, 729]\n"
     ]
    }
   ],
   "source": [
    "#class work\n",
    "list1 = [2,4,5,7,9]\n",
    "list2 = [x**3 for x in list1]\n",
    "print(list2)"
   ]
  },
  {
   "cell_type": "code",
   "execution_count": 46,
   "id": "c228f7b1",
   "metadata": {},
   "outputs": [
    {
     "name": "stdout",
     "output_type": "stream",
     "text": [
      "[(1, 3), (1, 4), (2, 3), (2, 1), (2, 4), (3, 1), (3, 4)]\n"
     ]
    }
   ],
   "source": [
    "#nested for loop\n",
    "combs = []\n",
    "for x in [1,2,3]:\n",
    "    for y in [3,1,4]:\n",
    "        if x != y:\n",
    "            combs.append((x,y))\n",
    "print(combs)\n",
    "    "
   ]
  },
  {
   "cell_type": "code",
   "execution_count": 47,
   "id": "f8031ce2",
   "metadata": {},
   "outputs": [
    {
     "name": "stdout",
     "output_type": "stream",
     "text": [
      "[(1, 3), (1, 4), (2, 3), (2, 1), (2, 4), (3, 1), (3, 4)]\n"
     ]
    }
   ],
   "source": [
    "#list comprehension version of nexted for loop\n",
    "combs = [(x,y) for x in [1,2,3] for y in [3,1,4] if x!=y]\n",
    "print(combs)"
   ]
  },
  {
   "cell_type": "code",
   "execution_count": null,
   "id": "9c5bb4c3",
   "metadata": {},
   "outputs": [],
   "source": []
  }
 ],
 "metadata": {
  "kernelspec": {
   "display_name": "Python 3 (ipykernel)",
   "language": "python",
   "name": "python3"
  },
  "language_info": {
   "codemirror_mode": {
    "name": "ipython",
    "version": 3
   },
   "file_extension": ".py",
   "mimetype": "text/x-python",
   "name": "python",
   "nbconvert_exporter": "python",
   "pygments_lexer": "ipython3",
   "version": "3.11.3"
  }
 },
 "nbformat": 4,
 "nbformat_minor": 5
}
