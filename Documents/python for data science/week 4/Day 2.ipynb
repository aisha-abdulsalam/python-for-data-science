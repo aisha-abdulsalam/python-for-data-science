{
 "cells": [
  {
   "cell_type": "code",
   "execution_count": 4,
   "id": "43c08714",
   "metadata": {},
   "outputs": [
    {
     "name": "stdout",
     "output_type": "stream",
     "text": [
      "70\n"
     ]
    }
   ],
   "source": [
    "#python dictionary\n",
    "my_dict = {\"first\": 50, \"second\":70, \"third\": 68 }\n",
    "print(my_dict[\"second\"])"
   ]
  },
  {
   "cell_type": "code",
   "execution_count": 5,
   "id": "de9c0872",
   "metadata": {},
   "outputs": [
    {
     "name": "stdout",
     "output_type": "stream",
     "text": [
      "{'first': 50, 'second': 90, 'third': 68}\n"
     ]
    }
   ],
   "source": [
    "#python dictionary\n",
    "my_dict = {\"first\": 50, \"second\":70, \"third\": 68 }\n",
    "my_dict[\"second\"] = 90\n",
    "print(my_dict)"
   ]
  },
  {
   "cell_type": "code",
   "execution_count": 21,
   "id": "8582551c",
   "metadata": {},
   "outputs": [
    {
     "name": "stdout",
     "output_type": "stream",
     "text": [
      "items tuple dict_items([('Age', 20), ('Sex', 'Female'), ('Subjects', ['Biology', 'Chemistry', 'Pysics'])])\n"
     ]
    }
   ],
   "source": [
    "new_dict = {'Age': 20, 'Sex': \"Female\", \"Subjects\": ['Biology', 'Chemistry', 'Pysics']}\n",
    "#print(new_dict['Subjects'])\n",
    "dict_values = new_dict.values()\n",
    "#print(\"values\"dict_values)\n",
    "dict_keys = new_dict.keys()\n",
    "#print(\"keys\"dict_keys)\n",
    "\n",
    "dict_item = new_dict.items()\n",
    "print(\"items tuple\", dict_item)\n"
   ]
  },
  {
   "cell_type": "code",
   "execution_count": 16,
   "id": "e5cdca7a",
   "metadata": {},
   "outputs": [
    {
     "name": "stdout",
     "output_type": "stream",
     "text": [
      "key = Age value = 20\n",
      "key = Sex value = Female\n",
      "key = Subjects value = ['Biology', 'Chemistry', 'Pysics']\n"
     ]
    }
   ],
   "source": [
    "new_dict = {'Age': 20, 'Sex': \"Female\", \"Subjects\": ['Biology', 'Chemistry', 'Pysics']}\n",
    "for item in new_dict.items():\n",
    "    print(\"key =\", item[0], \"value =\", item[1])"
   ]
  },
  {
   "cell_type": "code",
   "execution_count": 19,
   "id": "fcb0f4a5",
   "metadata": {},
   "outputs": [
    {
     "name": "stdout",
     "output_type": "stream",
     "text": [
      "cart total cost = 14000\n"
     ]
    }
   ],
   "source": [
    "cart = [{\"product_id\": 23, 'name': \"fish\", 'quantity': 2, \"price\": 5000},{\"product_id\": 26,\"name\": \"shoe\", \"quantity\": 2, \"price\": 2000, \"colour\":\"blue\"}]\n",
    "total = 0\n",
    "for item in cart:\n",
    "    cost = item['price'] * item['quantity']\n",
    "    total += cost\n",
    "print(\"cart total cost =\", total)\n",
    "    "
   ]
  },
  {
   "cell_type": "code",
   "execution_count": 55,
   "id": "59e3d204",
   "metadata": {},
   "outputs": [
    {
     "ename": "TypeError",
     "evalue": "unsupported operand type(s) for +: 'int' and 'NoneType'",
     "output_type": "error",
     "traceback": [
      "\u001b[1;31m---------------------------------------------------------------------------\u001b[0m",
      "\u001b[1;31mTypeError\u001b[0m                                 Traceback (most recent call last)",
      "Cell \u001b[1;32mIn[55], line 4\u001b[0m\n\u001b[0;32m      1\u001b[0m data \u001b[38;5;241m=\u001b[39m [{\u001b[38;5;124m\"\u001b[39m\u001b[38;5;124mname\u001b[39m\u001b[38;5;124m\"\u001b[39m: \u001b[38;5;124m'\u001b[39m\u001b[38;5;124msam\u001b[39m\u001b[38;5;124m'\u001b[39m, \u001b[38;5;124m'\u001b[39m\u001b[38;5;124mbiology\u001b[39m\u001b[38;5;124m'\u001b[39m:\u001b[38;5;241m60\u001b[39m, \u001b[38;5;124m'\u001b[39m\u001b[38;5;124mphysics\u001b[39m\u001b[38;5;124m'\u001b[39m:\u001b[38;5;241m64\u001b[39m,\u001b[38;5;124m'\u001b[39m\u001b[38;5;124mmath\u001b[39m\u001b[38;5;124m'\u001b[39m:\u001b[38;5;241m80\u001b[39m },{\u001b[38;5;124m\"\u001b[39m\u001b[38;5;124mname\u001b[39m\u001b[38;5;124m\"\u001b[39m: \u001b[38;5;124m'\u001b[39m\u001b[38;5;124mwilly\u001b[39m\u001b[38;5;124m'\u001b[39m, \u001b[38;5;124m'\u001b[39m\u001b[38;5;124mbiology\u001b[39m\u001b[38;5;124m'\u001b[39m:\u001b[38;5;241m70\u001b[39m, \u001b[38;5;124m'\u001b[39m\u001b[38;5;124mphysics\u001b[39m\u001b[38;5;124m'\u001b[39m:\u001b[38;5;241m44\u001b[39m,\u001b[38;5;124m'\u001b[39m\u001b[38;5;124mmath\u001b[39m\u001b[38;5;124m'\u001b[39m:\u001b[38;5;241m60\u001b[39m },{\u001b[38;5;124m\"\u001b[39m\u001b[38;5;124mname\u001b[39m\u001b[38;5;124m\"\u001b[39m: \u001b[38;5;124m'\u001b[39m\u001b[38;5;124made\u001b[39m\u001b[38;5;124m'\u001b[39m, \u001b[38;5;124m'\u001b[39m\u001b[38;5;124mbiology\u001b[39m\u001b[38;5;124m'\u001b[39m:\u001b[38;5;241m30\u001b[39m, \u001b[38;5;124m'\u001b[39m\u001b[38;5;124mphysics\u001b[39m\u001b[38;5;124m'\u001b[39m:\u001b[38;5;241m84\u001b[39m,\u001b[38;5;124m'\u001b[39m\u001b[38;5;124mmath\u001b[39m\u001b[38;5;124m'\u001b[39m:\u001b[38;5;241m50\u001b[39m }]\n\u001b[0;32m      3\u001b[0m \u001b[38;5;28;01mfor\u001b[39;00m item \u001b[38;5;129;01min\u001b[39;00m data:\n\u001b[1;32m----> 4\u001b[0m     total_score \u001b[38;5;241m=\u001b[39m item\u001b[38;5;241m.\u001b[39mget(\u001b[38;5;124m'\u001b[39m\u001b[38;5;124mbiology\u001b[39m\u001b[38;5;124m'\u001b[39m) \u001b[38;5;241m+\u001b[39m item\u001b[38;5;241m.\u001b[39mget(\u001b[38;5;124m'\u001b[39m\u001b[38;5;124mphysics\u001b[39m\u001b[38;5;124m'\u001b[39m) \u001b[38;5;241m+\u001b[39m item\u001b[38;5;241m.\u001b[39mget(\u001b[38;5;124m'\u001b[39m\u001b[38;5;124mmaths\u001b[39m\u001b[38;5;124m'\u001b[39m)\n\u001b[0;32m      5\u001b[0m     total[\u001b[38;5;124m'\u001b[39m\u001b[38;5;124mtotal\u001b[39m\u001b[38;5;124m'\u001b[39m] \u001b[38;5;241m=\u001b[39m total_score\n\u001b[0;32m      6\u001b[0m     \u001b[38;5;28mprint\u001b[39m(item[\u001b[38;5;124m'\u001b[39m\u001b[38;5;124mname\u001b[39m\u001b[38;5;124m'\u001b[39m], \u001b[38;5;124m\"\u001b[39m\u001b[38;5;124mscored\u001b[39m\u001b[38;5;124m\"\u001b[39m, total_score)\n",
      "\u001b[1;31mTypeError\u001b[0m: unsupported operand type(s) for +: 'int' and 'NoneType'"
     ]
    }
   ],
   "source": [
    "data = [{\"name\": 'sam', 'biology':60, 'physics':64,'math':80 },{\"name\": 'willy', 'biology':70, 'physics':44,'math':60 },{\"name\": 'ade', 'biology':30, 'physics':84,'math':50 }]\n",
    "\n",
    "for item in data:\n",
    "    total_score = item.get('biology') + item.get('physics') + item.get('maths')\n",
    "    total['total'] = total_score\n",
    "    print(item['name'], \"scored\", total_score)\n",
    "print(data)"
   ]
  },
  {
   "cell_type": "code",
   "execution_count": 54,
   "id": "1ccf13c4",
   "metadata": {},
   "outputs": [
    {
     "name": "stdout",
     "output_type": "stream",
     "text": [
      "{'maths', 'literatire', 'geography'}\n",
      "{'maths', 'literatire', 'biology', 'geography'}\n"
     ]
    }
   ],
   "source": [
    "#working with set\n",
    "my_set = {'maths', 'literatire', 'geography', 'maths'}\n",
    "print(my_set)\n",
    "my_set.add('biology')\n",
    "print(my_set)\n"
   ]
  },
  {
   "cell_type": "code",
   "execution_count": 35,
   "id": "3eb6a99e",
   "metadata": {},
   "outputs": [
    {
     "name": "stdout",
     "output_type": "stream",
     "text": [
      "difference {'literatire', 'geography'}\n",
      "union {'maths', 'literatire', 'chemistry', 'physics', 'english', 'geography'}\n",
      "intersection {'maths'}\n"
     ]
    }
   ],
   "source": [
    "set_a = {'maths', 'literatire', 'geography'}\n",
    "set_b = {'maths', 'english', 'physics', 'chemistry'}\n",
    "\n",
    "set_difference = set_a.difference(set_b)\n",
    "print(\"difference\", set_difference)\n",
    "\n",
    "set_union = set_a.union(set_b)\n",
    "print(\"union\", set_union)\n",
    "\n",
    "set_intersection = set_a.intersection(set_b)\n",
    "print(\"intersection\", set_intersection)\n"
   ]
  },
  {
   "cell_type": "code",
   "execution_count": 24,
   "id": "f6d5638f",
   "metadata": {},
   "outputs": [
    {
     "name": "stdout",
     "output_type": "stream",
     "text": [
      "enlish\n",
      "chemistry\n",
      "math\n",
      "physics\n"
     ]
    }
   ],
   "source": [
    "set_b = {'maths', 'enlish', 'physics', 'chemistry'}\n",
    "for i in set_b:\n",
    "    print(i)"
   ]
  },
  {
   "cell_type": "code",
   "execution_count": 31,
   "id": "2cd6e1ca",
   "metadata": {},
   "outputs": [
    {
     "name": "stdout",
     "output_type": "stream",
     "text": [
      "orenge\n",
      "banana\n",
      "orange\n"
     ]
    }
   ],
   "source": [
    "#working with tuple\n",
    "mytuple = (\"orenge\", \"banana\", \"orange\")\n",
    "\n",
    "#mylist =  (\"orenge\", \"banana\", \"orange\")\n",
    "#mylist[2] = 'cashew'\n",
    "#print(mylist)\n",
    "\n",
    "#mystr = \"orenge banana orange\"\n",
    "\n",
    "\n",
    "#mytuple.remove(2)\n",
    "for item in mytuple:\n",
    "    print(item)"
   ]
  },
  {
   "cell_type": "code",
   "execution_count": 39,
   "id": "58f69bbf",
   "metadata": {},
   "outputs": [
    {
     "name": "stdout",
     "output_type": "stream",
     "text": [
      "13\n",
      "5\n",
      "7\n",
      "8\n",
      "9\n",
      "1\n",
      "9\n",
      "0\n",
      "3\n",
      "16\n",
      "34\n",
      "8\n"
     ]
    }
   ],
   "source": [
    "list_in_list = [13, 5, 7, 8, 9, 1, [9, 0, 3],[16, 34, 8]]\n",
    "for num in list_in_list:\n",
    "    if type(num) == type([]):\n",
    "        for i in num:\n",
    "            print(i)\n",
    "    else:\n",
    "        print(num)\n",
    "    "
   ]
  },
  {
   "cell_type": "code",
   "execution_count": 45,
   "id": "fbd18d4a",
   "metadata": {},
   "outputs": [
    {
     "name": "stdout",
     "output_type": "stream",
     "text": [
      "<class 'list'>\n",
      "<class 'tuple'>\n",
      "<class 'tuple'>\n",
      "<class 'str'>\n"
     ]
    }
   ],
   "source": [
    "list1 = [1,2]\n",
    "list2 = (1, 2)\n",
    "list3 = \"1\",\" 2\"\n",
    "list4 = \"1 2\"\n",
    "print(type(list1))\n",
    "print(type(list2))\n",
    "print(type(list3))\n",
    "print(type(list4))"
   ]
  },
  {
   "cell_type": "code",
   "execution_count": 50,
   "id": "24327ca2",
   "metadata": {},
   "outputs": [
    {
     "ename": "IndentationError",
     "evalue": "expected an indented block after 'for' statement on line 2 (1354644512.py, line 3)",
     "output_type": "error",
     "traceback": [
      "\u001b[1;36m  Cell \u001b[1;32mIn[50], line 3\u001b[1;36m\u001b[0m\n\u001b[1;33m    if type(num) in [type([]),type(()),type(set())]:\u001b[0m\n\u001b[1;37m    ^\u001b[0m\n\u001b[1;31mIndentationError\u001b[0m\u001b[1;31m:\u001b[0m expected an indented block after 'for' statement on line 2\n"
     ]
    }
   ],
   "source": [
    "    list_in_list = [13, 5, 7, 8, 9, 1, {9, 0, 3},[16, 34, 8],(10, 30, 40)]\n",
    "for num in list_in_list:\n",
    "    if type(num) in [type([]),type(()),type(set())]:\n",
    "        for i in num:\n",
    "            print(i)\n",
    "    else:\n",
    "        print(num)\n",
    "    "
   ]
  },
  {
   "cell_type": "code",
   "execution_count": null,
   "id": "74f9e237",
   "metadata": {},
   "outputs": [],
   "source": [
    "set(1, 2, 3)\n",
    "{1, 2, 3}\n",
    "\n",
    "list(1,2,3)\n",
    "[1,2,3]\n",
    "\n",
    "tuple(1,2,3)\n",
    "(1,2,3)"
   ]
  }
 ],
 "metadata": {
  "kernelspec": {
   "display_name": "Python 3 (ipykernel)",
   "language": "python",
   "name": "python3"
  },
  "language_info": {
   "codemirror_mode": {
    "name": "ipython",
    "version": 3
   },
   "file_extension": ".py",
   "mimetype": "text/x-python",
   "name": "python",
   "nbconvert_exporter": "python",
   "pygments_lexer": "ipython3",
   "version": "3.11.3"
  }
 },
 "nbformat": 4,
 "nbformat_minor": 5
}
